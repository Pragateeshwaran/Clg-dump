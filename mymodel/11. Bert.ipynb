{
 "cells": [
  {
   "cell_type": "markdown",
   "id": "07196b4b",
   "metadata": {},
   "source": [
    "# Impartus Question"
   ]
  },
  {
   "cell_type": "code",
   "execution_count": 5,
   "id": "7eb3e72f",
   "metadata": {},
   "outputs": [
    {
     "name": "stdout",
     "output_type": "stream",
     "text": [
      "Loading dataset and tokenizer...\n",
      "Preprocessing data...\n",
      "Loading BERT model...\n"
     ]
    },
    {
     "name": "stderr",
     "output_type": "stream",
     "text": [
      "Some weights of BertForSequenceClassification were not initialized from the model checkpoint at bert-base-uncased and are newly initialized: ['classifier.bias', 'classifier.weight']\n",
      "You should probably TRAIN this model on a down-stream task to be able to use it for predictions and inference.\n"
     ]
    },
    {
     "name": "stdout",
     "output_type": "stream",
     "text": [
      "Using device: cuda\n",
      "Starting training...\n",
      "Epoch 1/1 | Step 10/3125 | Loss: 0.7614\n",
      "breaking it.. using break\n",
      "Evaluating model...\n",
      "Accuracy: 0.5779\n",
      "Confusion Matrix:\n",
      "[[ 2324 10176]\n",
      " [  377 12123]]\n"
     ]
    }
   ],
   "source": [
    "from transformers import BertTokenizer, BertForSequenceClassification\n",
    "import torch\n",
    "from torch.optim import AdamW\n",
    "from datasets import load_dataset\n",
    "from torch.utils.data import DataLoader\n",
    "from sklearn.metrics import accuracy_score, confusion_matrix\n",
    "import numpy as np\n",
    "\n",
    "# Set random seed for reproducibility\n",
    "torch.manual_seed(42)\n",
    "\n",
    "# Load data & tokenizer\n",
    "print(\"Loading dataset and tokenizer...\")\n",
    "ds = load_dataset(\"imdb\")\n",
    "tok = BertTokenizer.from_pretrained(\"bert-base-uncased\")\n",
    "\n",
    "# Preprocessing function\n",
    "def preprocess_function(examples):\n",
    "    return tok(examples[\"text\"], truncation=True, padding=\"max_length\", max_length=512)\n",
    "\n",
    "# Apply preprocessing\n",
    "print(\"Preprocessing data...\")\n",
    "ds = ds.map(preprocess_function, batched=True)\n",
    "\n",
    "# Set format to PyTorch tensors\n",
    "ds.set_format(type=\"torch\", columns=[\"input_ids\", \"attention_mask\", \"label\"])\n",
    "\n",
    "# Create DataLoaders with proper collate_fn\n",
    "train_dataloader = DataLoader(ds[\"train\"], batch_size=8, shuffle=True)\n",
    "test_dataloader = DataLoader(ds[\"test\"], batch_size=8)\n",
    "\n",
    "# Load model\n",
    "print(\"Loading BERT model...\")\n",
    "model = BertForSequenceClassification.from_pretrained(\"bert-base-uncased\", num_labels=2)\n",
    "device = torch.device(\"cuda\" if torch.cuda.is_available() else \"cpu\")\n",
    "print(f\"Using device: {device}\")\n",
    "model.to(device)\n",
    "\n",
    "# Training setup\n",
    "optimizer = AdamW(model.parameters(), lr=2e-5)\n",
    "num_epochs = 1\n",
    "\n",
    "# Training loop\n",
    "print(\"Starting training...\")\n",
    "model.train()\n",
    "for epoch in range(num_epochs):\n",
    "    total_loss = 0\n",
    "    for step, batch in enumerate(train_dataloader):\n",
    "        # Move batch to device\n",
    "        batch = {k: v.to(device) for k, v in batch.items()}\n",
    "        \n",
    "        # Extract labels before passing inputs to model\n",
    "        labels = batch.pop(\"label\")\n",
    "        \n",
    "        # Forward pass\n",
    "        outputs = model(**batch, labels=labels)\n",
    "        loss = outputs.loss\n",
    "        \n",
    "        # Backward pass and optimization\n",
    "        loss.backward()\n",
    "        optimizer.step()\n",
    "        optimizer.zero_grad()\n",
    "        \n",
    "        total_loss += loss.item()\n",
    "        \n",
    "        # Print progress every 100 steps\n",
    "        if step % 100 == 0 and step > 0:\n",
    "            print(f\"Epoch {epoch+1}/{num_epochs} | Step {step}/{len(train_dataloader)} | Loss: {total_loss/step:.4f}\")\n",
    "        print(\"breaking it.. using break\")\n",
    "        break\n",
    "\n",
    "# Evaluation\n",
    "print(\"Evaluating model...\")\n",
    "model.eval()\n",
    "all_preds = []\n",
    "all_labels = []\n",
    "\n",
    "with torch.no_grad():\n",
    "    for batch in test_dataloader:\n",
    "        batch = {k: v.to(device) for k, v in batch.items()}\n",
    "        \n",
    "        # Extract labels before passing inputs to model\n",
    "        labels = batch.pop(\"label\")\n",
    "        \n",
    "        outputs = model(**batch)\n",
    "        predictions = outputs.logits.argmax(dim=-1)\n",
    "        \n",
    "        all_preds.extend(predictions.cpu().tolist())\n",
    "        all_labels.extend(labels.cpu().tolist())\n",
    "\n",
    "# Calculate metrics\n",
    "accuracy = accuracy_score(all_labels, all_preds)\n",
    "conf_matrix = confusion_matrix(all_labels, all_preds)\n",
    "\n",
    "print(f\"Accuracy: {accuracy:.4f}\")\n",
    "print(f\"Confusion Matrix:\\n{conf_matrix}\")"
   ]
  },
  {
   "cell_type": "code",
   "execution_count": 7,
   "id": "63a7907b",
   "metadata": {},
   "outputs": [
    {
     "data": {
      "text/plain": [
       "<Axes: >"
      ]
     },
     "execution_count": 7,
     "metadata": {},
     "output_type": "execute_result"
    },
    {
     "data": {
      "image/png": "[encoded data removed]",
      "text/plain": [
       "<Figure size 640x480 with 2 Axes>"
      ]
     },
     "metadata": {},
     "output_type": "display_data"
    }
   ],
   "source": [
    "import seaborn as sns\n",
    "\n",
    "sns.heatmap(conf_matrix)"
   ]
  },
  {
   "cell_type": "code",
   "execution_count": 25,
   "id": "7c191cb2",
   "metadata": {},
   "outputs": [
    {
     "name": "stderr",
     "output_type": "stream",
     "text": [
      "Some weights of the model checkpoint at bert-large-uncased-whole-word-masking-finetuned-squad were not used when initializing BertForQuestionAnswering: ['bert.pooler.dense.bias', 'bert.pooler.dense.weight']\n",
      "- This IS expected if you are initializing BertForQuestionAnswering from the checkpoint of a model trained on another task or with another architecture (e.g. initializing a BertForSequenceClassification model from a BertForPreTraining model).\n",
      "- This IS NOT expected if you are initializing BertForQuestionAnswering from the checkpoint of a model that you expect to be exactly identical (initializing a BertForSequenceClassification model from a BertForSequenceClassification model).\n"
     ]
    },
    {
     "name": "stdout",
     "output_type": "stream",
     "text": [
      "Question: How old is Alice?\n",
      "Answer: 20 years old\n"
     ]
    }
   ],
   "source": [
    "import torch\n",
    "import pandas as pd\n",
    "from transformers import BertTokenizer, BertForQuestionAnswering\n",
    "\n",
    "# Create DataFrame\n",
    "df = pd.DataFrame({\n",
    "    'Name': ['Alice', 'Bob'],\n",
    "    'Age': [20, 22],\n",
    "    'Course': ['Math', 'Physics'],\n",
    "    'Marks': [85, 90],\n",
    "    'Grade': ['A', 'A+']\n",
    "})\n",
    "\n",
    "# Convert DataFrame to natural language context\n",
    "context = \" \".join([\n",
    "    f\"{row['Name']} is {row['Age']} years old, enrolled in {row['Course']}, \"\n",
    "    f\"scored {row['Marks']} marks, and has grade {row['Grade']}.\"\n",
    "    for _, row in df.iterrows()\n",
    "])\n",
    "\n",
    "# Load model and tokenizer\n",
    "tokenizer = BertTokenizer.from_pretrained('bert-large-uncased-whole-word-masking-finetuned-squad')\n",
    "model = BertForQuestionAnswering.from_pretrained('bert-large-uncased-whole-word-masking-finetuned-squad')\n",
    "\n",
    "# Question Answering\n",
    "question = \"How old is Alice?\"\n",
    "inputs = tokenizer.encode_plus(question, context, return_tensors=\"pt\")\n",
    "\n",
    "with torch.no_grad():\n",
    "    outputs = model(**inputs)\n",
    "    start = torch.argmax(outputs.start_logits)\n",
    "    end = torch.argmax(outputs.end_logits) + 1\n",
    "    answer = tokenizer.decode(inputs[\"input_ids\"][0, start:end])\n",
    "\n",
    "print(f\"Question: {question}\\nAnswer: {answer}\")\n"
   ]
  },
  {
   "cell_type": "code",
   "execution_count": null,
   "id": "a02188a7",
   "metadata": {},
   "outputs": [],
   "source": []
  }
 ],
 "metadata": {
  "kernelspec": {
   "display_name": "Python 3",
   "language": "python",
   "name": "python3"
  },
  "language_info": {
   "codemirror_mode": {
    "name": "ipython",
    "version": 3
   },
   "file_extension": ".py",
   "mimetype": "text/x-python",
   "name": "python",
   "nbconvert_exporter": "python",
   "pygments_lexer": "ipython3",
   "version": "3.9.0"
  }
 },
 "nbformat": 4,
 "nbformat_minor": 5
}
