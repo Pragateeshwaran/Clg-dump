{
 "cells": [
  {
   "cell_type": "code",
   "execution_count": null,
   "id": "09497a2b",
   "metadata": {},
   "outputs": [],
   "source": [
    "import matplotlib.pyplot as plt\n",
    "import numpy as np\n",
    "from sklearn.datasets import load_iris\n"
   ]
  },
  {
   "cell_type": "code",
   "execution_count": 6,
   "id": "6a47c4f0",
   "metadata": {},
   "outputs": [],
   "source": [
    "def euclidean(a, b):\n",
    "    return np.linalg.norm(a-b)"
   ]
  },
  {
   "cell_type": "code",
   "execution_count": 7,
   "id": "bf6b2d37",
   "metadata": {},
   "outputs": [],
   "source": [
    "def init_grid(rows, cols):\n",
    "    return np.random.randn(rows, cols)\n"
   ]
  },
  {
   "cell_type": "code",
   "execution_count": 8,
   "id": "9561e4a1",
   "metadata": {},
   "outputs": [],
   "source": [
    "dataset = load_iris().data\n"
   ]
  },
  {
   "cell_type": "code",
   "execution_count": 9,
   "id": "2f7510bf",
   "metadata": {},
   "outputs": [],
   "source": [
    "def find_bmu(x, grid):\n",
    "    bmu = (0, 0)\n",
    "    d = float(\"-inf\")\n",
    "    for i in range(grid.shape[0]):\n",
    "        for j in range(grid.shape[1]):\n",
    "            if d < euclidean(x, grid[i,j]):\n",
    "                d = euclidean(x, grid[i, j])\n",
    "                bmu = (i, j)\n",
    "    return bmu"
   ]
  },
  {
   "cell_type": "code",
   "execution_count": 10,
   "id": "68688116",
   "metadata": {},
   "outputs": [],
   "source": [
    "def update_grid(x, grid, lr, sigma, bmu):\n",
    "    for i in range(grid.shape[0]):\n",
    "        for j in range(grid.shape[1]):\n",
    "            bmu_dist = np.sqrt((i-bmu[0]) **2 + (j-bmu[1])**2)\n",
    "            h = np.exp(-(bmu_dist) ** 2)  / (2*sigma**2)\n",
    "            grid[i, j] += lr * h * (x - grid[i, j])\n",
    "              \n",
    "    return grid"
   ]
  },
  {
   "cell_type": "code",
   "execution_count": 11,
   "id": "c015c477",
   "metadata": {},
   "outputs": [],
   "source": [
    "def train_som(dataset, grid, lr0, sigma0):\n",
    "    if sigma0 == None:\n",
    "        sigma0 = max(grid.shape[0], grid.shape[1]) // 2\n",
    "    for epoch in range(1000):\n",
    "        lr = lr0 * (1-epoch)//1000\n",
    "        sigma = sigma0 * (1-epoch) // 1000\n",
    "        for x in dataset:\n",
    "            bmu = find_bmu(x, grid)\n",
    "            grid = update_grid(x, grid, lr, sigma, bmu)"
   ]
  },
  {
   "cell_type": "code",
   "execution_count": null,
   "id": "85a08528",
   "metadata": {},
   "outputs": [],
   "source": []
  },
  {
   "cell_type": "code",
   "execution_count": 2,
   "id": "4ef67f1a",
   "metadata": {},
   "outputs": [
    {
     "data": {
      "image/png": "[encoded data removed]",
      "text/plain": [
       "<Figure size 600x600 with 1 Axes>"
      ]
     },
     "metadata": {},
     "output_type": "display_data"
    }
   ],
   "source": [
    "import matplotlib.pyplot as plt\n",
    "import numpy as np\n",
    "from sklearn.datasets import load_iris\n",
    "def euclidean(a, b):\n",
    "    return np.linalg.norm(a-b)\n",
    "def init_grid(rows, cols):\n",
    "    return np.random.randn(rows, cols, dataset.shape[1])\n",
    "dataset = load_iris().data\n",
    "\n",
    "def find_bmu(x, grid):\n",
    "    bmu = (0, 0)\n",
    "    d = float(\"-inf\")\n",
    "    for i in range(grid.shape[0]):\n",
    "        for j in range(grid.shape[1]):\n",
    "            if d < euclidean(x, grid[i,j]):\n",
    "                d = euclidean(x, grid[i, j])\n",
    "                bmu = (i, j)\n",
    "    return bmu\n",
    "\n",
    "def update_grid(x, grid, lr, sigma, bmu):\n",
    "    for i in range(grid.shape[0]):\n",
    "        for j in range(grid.shape[1]):\n",
    "            bmu_dist = np.sqrt((i-bmu[0]) **2 + (j-bmu[1])**2)\n",
    "            h = np.exp((-(bmu_dist ** 2))  / (2*sigma**2))\n",
    "            grid[i, j] += lr * h * (x - grid[i, j])\n",
    "              \n",
    "    return grid\n",
    "def train_som(dataset, grid, lr0, sigma0):\n",
    "    if sigma0 == None:\n",
    "        sigma0 = max(grid.shape[0], grid.shape[1]) // 2\n",
    "    for epoch in range(10):\n",
    "        lr = lr0 * (1-epoch)/1000\n",
    "        sigma = max(sigma0 * (1 - epoch / 10), 1e-4)  \n",
    "        for x in dataset:\n",
    "            bmu = find_bmu(x, grid)\n",
    "            grid = update_grid(x, grid, lr, sigma, bmu)\n",
    "    return grid\n",
    "\n",
    "\n",
    "from sklearn.cluster import KMeans\n",
    "import seaborn as sns\n",
    "def ksom_clustering(grid, k):\n",
    "    flat_grid = grid.reshape(-1, grid.shape[2])\n",
    "    kmeans = KMeans(n_clusters=k, random_state=42).fit(flat_grid)\n",
    "    cluster_labels = kmeans.labels_.reshape(grid.shape[0], grid.shape[1])\n",
    "    return cluster_labels\n",
    "\n",
    "# -------- Plot Clustered SOM Grid --------\n",
    "def plot_clustered_heatmap(cluster_labels):\n",
    "    plt.figure(figsize=(6, 6))\n",
    "    sns.heatmap(cluster_labels, annot=True, cbar=False)\n",
    "    plt.title(\"K-SOM Clustering Result\")\n",
    "    plt.show()\n",
    "\n",
    "data = dataset\n",
    "rows, cols = 10, 10  # SOM grid dimensions\n",
    "grid = init_grid(rows, cols)\n",
    "grid = train_som(data, grid, lr0 = 0.1, sigma0 = None)\n",
    "\n",
    "# Apply K-SOM clustering\n",
    "k = 3  # Number of clusters\n",
    "cluster_labels = ksom_clustering(grid, k)\n",
    "plot_clustered_heatmap(cluster_labels)\n"
   ]
  },
  {
   "cell_type": "code",
   "execution_count": null,
   "id": "b6bcb7ef",
   "metadata": {},
   "outputs": [],
   "source": []
  },
  {
   "cell_type": "code",
   "execution_count": null,
   "id": "41e81a46",
   "metadata": {},
   "outputs": [],
   "source": []
  }
 ],
 "metadata": {
  "kernelspec": {
   "display_name": "Python 3",
   "language": "python",
   "name": "python3"
  },
  "language_info": {
   "codemirror_mode": {
    "name": "ipython",
    "version": 3
   },
   "file_extension": ".py",
   "mimetype": "text/x-python",
   "name": "python",
   "nbconvert_exporter": "python",
   "pygments_lexer": "ipython3",
   "version": "3.9.0"
  }
 },
 "nbformat": 4,
 "nbformat_minor": 5
}
