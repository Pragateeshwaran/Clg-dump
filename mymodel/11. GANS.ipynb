{
 "cells": [
  {
   "cell_type": "code",
   "execution_count": 85,
   "id": "e4b077f6",
   "metadata": {},
   "outputs": [],
   "source": [
    "import tensorflow as tf\n",
    "from tensorflow.keras import layers\n",
    "import matplotlib.pyplot as plt"
   ]
  },
  {
   "cell_type": "code",
   "execution_count": 86,
   "id": "7ba04b90",
   "metadata": {},
   "outputs": [
    {
     "name": "stdout",
     "output_type": "stream",
     "text": [
      "Noise shape: (1, 100)\n",
      "Model: \"sequential_18\"\n",
      "_________________________________________________________________\n",
      " Layer (type)                Output Shape              Param #   \n",
      "=================================================================\n",
      " dense_9 (Dense)             (None, 12544)             1254400   \n",
      "                                                                 \n",
      " batch_normalization_6 (Batc  (None, 12544)            50176     \n",
      " hNormalization)                                                 \n",
      "                                                                 \n",
      " leaky_re_lu_6 (LeakyReLU)   (None, 12544)             0         \n",
      "                                                                 \n",
      " reshape_2 (Reshape)         (None, 7, 7, 256)         0         \n",
      "                                                                 \n",
      " conv2d_transpose_41 (Conv2D  (None, 14, 14, 128)      819200    \n",
      " Transpose)                                                      \n",
      "                                                                 \n",
      " batch_normalization_7 (Batc  (None, 14, 14, 128)      512       \n",
      " hNormalization)                                                 \n",
      "                                                                 \n",
      " leaky_re_lu_7 (LeakyReLU)   (None, 14, 14, 128)       0         \n",
      "                                                                 \n",
      " conv2d_transpose_42 (Conv2D  (None, 28, 28, 64)       204800    \n",
      " Transpose)                                                      \n",
      "                                                                 \n",
      " batch_normalization_8 (Batc  (None, 28, 28, 64)       256       \n",
      " hNormalization)                                                 \n",
      "                                                                 \n",
      " leaky_re_lu_8 (LeakyReLU)   (None, 28, 28, 64)        0         \n",
      "                                                                 \n",
      " conv2d_transpose_43 (Conv2D  (None, 28, 28, 1)        1600      \n",
      " Transpose)                                                      \n",
      "                                                                 \n",
      "=================================================================\n",
      "Total params: 2,330,944\n",
      "Trainable params: 2,305,472\n",
      "Non-trainable params: 25,472\n",
      "_________________________________________________________________\n",
      "Generated image shape: (1, 28, 28, 1)\n"
     ]
    },
    {
     "data": {
      "image/png": "[encoded data removed]",
      "text/plain": [
       "<Figure size 1000x400 with 2 Axes>"
      ]
     },
     "metadata": {},
     "output_type": "display_data"
    }
   ],
   "source": [
    "import tensorflow as tf\n",
    "from tensorflow.keras import layers\n",
    "import matplotlib.pyplot as plt\n",
    "import numpy as np\n",
    "\n",
    "def build_generator():\n",
    "    # Properly structure the generator to transform from noise to image\n",
    "    return tf.keras.Sequential([\n",
    "        # Start with a Dense layer to process the 1D noise vector\n",
    "        layers.Dense(7 * 7 * 256, use_bias=False, input_shape=(100,)),\n",
    "        layers.BatchNormalization(),\n",
    "        layers.LeakyReLU(),\n",
    "        \n",
    "        # Reshape to a small convolutional feature map\n",
    "        layers.Reshape((7, 7, 256)),\n",
    "        \n",
    "        # Upsample to 14x14\n",
    "        layers.Conv2DTranspose(128, (5, 5), strides=(2, 2), padding='same', use_bias=False),\n",
    "        layers.BatchNormalization(),\n",
    "        layers.LeakyReLU(),\n",
    "        \n",
    "        # Upsample to 28x28\n",
    "        layers.Conv2DTranspose(64, (5, 5), strides=(2, 2), padding='same', use_bias=False),\n",
    "        layers.BatchNormalization(),\n",
    "        layers.LeakyReLU(),\n",
    "        \n",
    "        # Output layer with tanh activation\n",
    "        layers.Conv2DTranspose(1, (5, 5), strides=(1, 1), padding='same', use_bias=False, activation='tanh')\n",
    "    ])\n",
    "\n",
    "# Create a batch of noise vectors\n",
    "batch_size = 1\n",
    "noise_dim = 100\n",
    "noise = tf.random.normal([batch_size, noise_dim])\n",
    "print(\"Noise shape:\", noise.shape)\n",
    "\n",
    "# Don't try to plot the noise vector as an image\n",
    "# Instead, we can visualize its distribution\n",
    "plt.figure(figsize=(10, 4))\n",
    "plt.subplot(1, 2, 1)\n",
    "plt.hist(noise.numpy().flatten(), bins=50)\n",
    "plt.title('Noise Distribution')\n",
    "\n",
    "# Build and use the generator\n",
    "generator = build_generator()\n",
    "generator.summary()  # Print the model architecture\n",
    "\n",
    "# Generate an image\n",
    "generated_image = generator(noise, training=False)\n",
    "print(\"Generated image shape:\", generated_image.shape)\n",
    "\n",
    "# Rescale from [-1,1] to [0,1] for visualization\n",
    "generated_image = (generated_image + 1) / 2.0\n",
    "\n",
    "# Plot the generated image\n",
    "plt.subplot(1, 2, 2)\n",
    "plt.imshow(generated_image[0, :, :, 0], cmap='gray')\n",
    "plt.title('Generated Image')\n",
    "plt.axis('off')\n",
    "plt.tight_layout()\n",
    "plt.show()"
   ]
  },
  {
   "cell_type": "code",
   "execution_count": 87,
   "id": "ababa834",
   "metadata": {},
   "outputs": [],
   "source": [
    "def descriminator_builder():\n",
    "    return tf.keras.Sequential([\n",
    "        layers.Input(shape=(28, 28, 1)),\n",
    "        layers.Conv2D(128, (2, 2), padding='same'),\n",
    "        layers.Conv2D(64, (2, 2), padding='same'),\n",
    "        layers.Conv2D(128, (2, 2), padding='same'),\n",
    "        layers.Conv2D(1, (2, 2), padding='same'),\n",
    "        layers.Flatten(),\n",
    "        layers.Dense(1, activation='sigmoid')\n",
    "    ])\n"
   ]
  },
  {
   "cell_type": "code",
   "execution_count": 88,
   "id": "1cd10901",
   "metadata": {},
   "outputs": [
    {
     "data": {
      "text/plain": [
       "<tf.Tensor: shape=(1, 1), dtype=float32, numpy=array([[0.49783078]], dtype=float32)>"
      ]
     },
     "execution_count": 88,
     "metadata": {},
     "output_type": "execute_result"
    }
   ],
   "source": [
    "descriminator = descriminator_builder()\n",
    "descriminator(generated_image)"
   ]
  },
  {
   "cell_type": "code",
   "execution_count": 89,
   "id": "82ed567a",
   "metadata": {},
   "outputs": [],
   "source": [
    "loss = tf.keras.losses.BinaryCrossentropy()\n",
    "def discriminator_los(image, generated_image):\n",
    "    return loss(tf.ones_like(image), image) + loss(tf.zeros_like(generated_image), generated_image)\n",
    "def generator_los(image):\n",
    "    return loss(tf.ones_like(image), image) \n",
    "\n",
    "gen_optim = tf.keras.optimizers.Adam(1e-4)\n",
    "des_optim = tf.keras.optimizers.Adam(1e-4)\n"
   ]
  },
  {
   "cell_type": "code",
   "execution_count": 102,
   "id": "b9d20961",
   "metadata": {},
   "outputs": [],
   "source": [
    "@tf.function()\n",
    "def train_step(image):\n",
    "    batch_size = tf.shape(image)[0]\n",
    "    noise = tf.random.normal([batch_size, 100])\n",
    "    with tf.GradientTape() as genG, tf.GradientTape() as disG:\n",
    "        gen = generator(noise)\n",
    "        des_r = descriminator(image)\n",
    "        des_f = descriminator(gen)\n",
    "        des_loss = discriminator_los(des_r, des_f)\n",
    "        gen_loss = generator_los(des_f)\n",
    "    \n",
    "    gradient_gen = genG.gradient(gen_loss, generator.trainable_variables)\n",
    "    gradient_dis = disG.gradient(des_loss, descriminator.trainable_variables)\n",
    "    gen_optim.apply_gradients(zip(gradient_gen, generator.trainable_variables))\n",
    "    des_optim.apply_gradients(zip(gradient_dis, descriminator.trainable_variables))\n"
   ]
  },
  {
   "cell_type": "code",
   "execution_count": 103,
   "id": "bc713273",
   "metadata": {},
   "outputs": [],
   "source": [
    "(train_images, train_labels), (_, _) = tf.keras.datasets.mnist.load_data()\n",
    "# Batch and shuffle the data\n",
    "train_dataset = tf.data.Dataset.from_tensor_slices(train_images).batch(64)\n"
   ]
  },
  {
   "cell_type": "code",
   "execution_count": 104,
   "id": "fda42d92",
   "metadata": {},
   "outputs": [
    {
     "data": {
      "text/plain": [
       "TensorShape([64, 28, 28])"
      ]
     },
     "execution_count": 104,
     "metadata": {},
     "output_type": "execute_result"
    }
   ],
   "source": [
    "iter(train_dataset).next().shape"
   ]
  },
  {
   "cell_type": "code",
   "execution_count": 105,
   "id": "86bcc0ac",
   "metadata": {},
   "outputs": [
    {
     "name": "stdout",
     "output_type": "stream",
     "text": [
      "epoch = {i}\n",
      "epoch = {i}\n",
      "epoch = {i}\n",
      "epoch = {i}\n",
      "epoch = {i}\n",
      "epoch = {i}\n",
      "epoch = {i}\n",
      "epoch = {i}\n",
      "epoch = {i}\n",
      "epoch = {i}\n"
     ]
    }
   ],
   "source": [
    "def train():\n",
    "    for i in range(10):\n",
    "        for batch in train_dataset:\n",
    "            train_step(batch)\n",
    "        print(\"epoch = {i}\")\n",
    "train()"
   ]
  },
  {
   "cell_type": "code",
   "execution_count": 106,
   "id": "1f2831d9",
   "metadata": {},
   "outputs": [
    {
     "data": {
      "image/png": "[encoded data removed]",
      "text/plain": [
       "<Figure size 400x400 with 16 Axes>"
      ]
     },
     "metadata": {},
     "output_type": "display_data"
    }
   ],
   "source": [
    "def generate_and_save_images(model):\n",
    "  # Notice `training` is set to False.\n",
    "  # This is so all layers run in inference mode (batchnorm).\n",
    "  predictions = model(test_input, training=False)\n",
    "\n",
    "  fig = plt.figure(figsize=(4, 4))\n",
    "\n",
    "  for i in range(predictions.shape[0]):\n",
    "      plt.subplot(4, 4, i+1)\n",
    "      plt.imshow(predictions[i, :, :, 0] * 127.5 + 127.5, cmap='gray')\n",
    "      plt.axis('off')\n",
    "\n",
    "  plt.show()\n",
    "\n",
    "test_input = tf.random.normal([16, 100])\n",
    "generate_and_save_images(generator)"
   ]
  }
 ],
 "metadata": {
  "kernelspec": {
   "display_name": "tf",
   "language": "python",
   "name": "python3"
  },
  "language_info": {
   "codemirror_mode": {
    "name": "ipython",
    "version": 3
   },
   "file_extension": ".py",
   "mimetype": "text/x-python",
   "name": "python",
   "nbconvert_exporter": "python",
   "pygments_lexer": "ipython3",
   "version": "3.9.19"
  }
 },
 "nbformat": 4,
 "nbformat_minor": 5
}
